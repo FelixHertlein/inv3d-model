{
 "cells": [
  {
   "cell_type": "markdown",
   "id": "5e7b92c3",
   "metadata": {},
   "source": [
    "# Example: dataset loading"
   ]
  },
  {
   "cell_type": "code",
   "execution_count": null,
   "id": "57fd8a04",
   "metadata": {},
   "outputs": [],
   "source": [
    "%load_ext autoreload\n",
    "%autoreload 2\n",
    "\n",
    "import sys\n",
    "from pathlib import Path\n",
    "\n",
    "sys.path.insert(0, str(Path(\"../src\").resolve()))"
   ]
  },
  {
   "cell_type": "code",
   "execution_count": null,
   "id": "3ca9cf93",
   "metadata": {},
   "outputs": [],
   "source": [
    "from inv3d_model.datasets import (\n",
    "    Inv3DDataset,\n",
    "    Doc3DDataset,\n",
    "    Inv3DRealDataset,\n",
    "    Inv3DTestDataset,\n",
    "    Doc3DTestDataset,\n",
    "    Doc3DRealDataset,\n",
    ")\n",
    "from inv3d_util.visualization import (\n",
    "    visualize_image,\n",
    "    visualize_bm,\n",
    "    visualize_matplotlib,\n",
    "    visualize_mask,\n",
    ")\n",
    "\n",
    "all_extra_features = [\"wc\", \"recon\", \"mask\"]\n",
    "\n",
    "template = \"text\"  # One of: full, white, struct, text"
   ]
  },
  {
   "cell_type": "markdown",
   "id": "b41d82fb",
   "metadata": {},
   "source": [
    "# Inv3D"
   ]
  },
  {
   "cell_type": "code",
   "execution_count": null,
   "id": "3a4026ea",
   "metadata": {
    "scrolled": false
   },
   "outputs": [],
   "source": [
    "dataset = Inv3DDataset(\n",
    "    source_dir=\"/workspaces/inv3d-model/input/inv3d/data/train/\",\n",
    "    resolution=288,\n",
    "    template=template,\n",
    "    extra_features=all_extra_features,\n",
    ")\n",
    "data = dataset[0]\n",
    "print(\"Sample: \", data[\"sample\"])\n",
    "\n",
    "visualize_image(data[\"input\"][\"template\"])\n",
    "visualize_bm(data[\"input\"][\"image\"], data[\"train\"][\"bm\"])\n",
    "visualize_image(data[\"train\"][\"wc\"])\n",
    "visualize_image(data[\"train\"][\"recon\"])\n",
    "visualize_mask(data[\"train\"][\"mask\"])"
   ]
  },
  {
   "cell_type": "markdown",
   "id": "7294edd4",
   "metadata": {},
   "source": [
    "# Inv3D Test"
   ]
  },
  {
   "cell_type": "code",
   "execution_count": null,
   "id": "bc992be8",
   "metadata": {},
   "outputs": [],
   "source": [
    "dataset = Inv3DTestDataset(\n",
    "    source_dir=\"/workspaces/inv3d-model/input/inv3d/data/test/\",\n",
    "    resolution=288,\n",
    "    template=template,\n",
    ")\n",
    "print(len(dataset))\n",
    "data = dataset[0]\n",
    "visualize_image(data[\"input\"][\"image\"])\n",
    "visualize_image(data[\"input\"][\"template\"])\n",
    "visualize_image(data[\"eval\"][\"true_image\"])\n",
    "visualize_image(data[\"eval\"][\"orig_image\"])\n",
    "visualize_bm(data[\"eval\"][\"orig_image\"], data[\"eval\"][\"true_bm\"])"
   ]
  },
  {
   "cell_type": "markdown",
   "id": "7294edd4",
   "metadata": {},
   "source": [
    "# Inv3D Real"
   ]
  },
  {
   "cell_type": "code",
   "execution_count": null,
   "id": "bc992be8",
   "metadata": {},
   "outputs": [],
   "source": [
    "dataset = Inv3DRealDataset(\n",
    "    source_dir=\"/workspaces/inv3d-model/input/inv3d_real\",\n",
    "    resolution=288,\n",
    "    template=template,\n",
    ")\n",
    "print(len(dataset))\n",
    "data = dataset[0]\n",
    "visualize_image(data[\"input\"][\"image\"])\n",
    "visualize_image(data[\"input\"][\"template\"])\n",
    "visualize_image(data[\"eval\"][\"true_image\"])\n",
    "visualize_image(data[\"eval\"][\"orig_image\"])"
   ]
  },
  {
   "cell_type": "markdown",
   "id": "d9c75e57",
   "metadata": {},
   "source": [
    "# Doc3D"
   ]
  },
  {
   "cell_type": "code",
   "execution_count": null,
   "id": "85188c1b",
   "metadata": {
    "scrolled": false
   },
   "outputs": [],
   "source": [
    "dataset = Doc3DDataset(\n",
    "    source_file=\"/workspaces/inv3d-model/input/doc3d/train.txt\",\n",
    "    resolution=288,\n",
    "    extra_features=all_extra_features,\n",
    ")\n",
    "data = dataset[0]\n",
    "print(\"Sample: \", data[\"sample\"])\n",
    "\n",
    "visualize_bm(data[\"input\"][\"image\"], data[\"train\"][\"bm\"])\n",
    "visualize_image(data[\"train\"][\"wc\"])\n",
    "visualize_image(data[\"train\"][\"recon\"])\n",
    "visualize_mask(data[\"train\"][\"mask\"])"
   ]
  },
  {
   "cell_type": "markdown",
   "id": "d9c75e57",
   "metadata": {},
   "source": [
    "# Doc3D Test"
   ]
  },
  {
   "cell_type": "code",
   "execution_count": null,
   "id": "85188c1b",
   "metadata": {
    "scrolled": false
   },
   "outputs": [],
   "source": [
    "dataset = Doc3DTestDataset(\n",
    "    source_file=\"/workspaces/inv3d-model/input/doc3d/test.txt\", resolution=288\n",
    ")\n",
    "data = dataset[0]\n",
    "print(\"Sample: \", data[\"sample\"])\n",
    "\n",
    "visualize_image(data[\"input\"][\"image\"])\n",
    "visualize_image(data[\"eval\"][\"true_image\"])\n",
    "visualize_image(data[\"eval\"][\"orig_image\"])\n",
    "visualize_bm(data[\"eval\"][\"orig_image\"], data[\"eval\"][\"true_bm\"])"
   ]
  },
  {
   "cell_type": "markdown",
   "id": "f5d1939b",
   "metadata": {},
   "source": [
    "# Doc3D Real"
   ]
  },
  {
   "cell_type": "code",
   "execution_count": null,
   "id": "3fb81056",
   "metadata": {},
   "outputs": [],
   "source": [
    "dataset = Doc3DRealDataset(\n",
    "    source_dir=\"/workspaces/inv3d-model/input/doc3d/real/\", resolution=288\n",
    ")\n",
    "data = dataset[0]\n",
    "print(\"Sample: \", data[\"sample\"])\n",
    "\n",
    "visualize_image(data[\"input\"][\"image\"])\n",
    "visualize_image(data[\"eval\"][\"true_image\"])\n",
    "visualize_image(data[\"eval\"][\"orig_image\"])"
   ]
  },
  {
   "cell_type": "code",
   "execution_count": null,
   "id": "53044f48",
   "metadata": {},
   "outputs": [],
   "source": [
    "\"Done\""
   ]
  },
  {
   "cell_type": "code",
   "execution_count": null,
   "id": "a12aad0a",
   "metadata": {},
   "outputs": [],
   "source": []
  }
 ],
 "metadata": {
  "interpreter": {
   "hash": "d1eca7e10033d0533b79216175e355f46768e71e51be748d196f93f1f783edce"
  },
  "kernelspec": {
   "display_name": "Python 3.9.10 ('inv3d-normalizer-39')",
   "language": "python",
   "name": "python3"
  },
  "language_info": {
   "codemirror_mode": {
    "name": "ipython",
    "version": 3
   },
   "file_extension": ".py",
   "mimetype": "text/x-python",
   "name": "python",
   "nbconvert_exporter": "python",
   "pygments_lexer": "ipython3",
   "version": "3.10.12"
  }
 },
 "nbformat": 4,
 "nbformat_minor": 5
}
