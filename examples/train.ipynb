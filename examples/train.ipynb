{
 "cells": [
  {
   "cell_type": "markdown",
   "metadata": {},
   "source": [
    "# Training example"
   ]
  },
  {
   "cell_type": "code",
   "execution_count": 1,
   "metadata": {},
   "outputs": [],
   "source": [
    "%load_ext autoreload\n",
    "%autoreload 2\n",
    "\n",
    "import sys\n",
    "from pathlib import Path\n",
    "\n",
    "sys.path.insert(0, str(Path(\"../src\").resolve()))"
   ]
  },
  {
   "cell_type": "code",
   "execution_count": 2,
   "metadata": {},
   "outputs": [
    {
     "name": "stderr",
     "output_type": "stream",
     "text": [
      "Global seed set to 42\n"
     ]
    }
   ],
   "source": [
    "from inv3d_model.model_zoo import ModelZoo\n",
    "\n",
    "zoo = ModelZoo(\"../models\", \"../sources.yaml\")"
   ]
  },
  {
   "cell_type": "code",
   "execution_count": 3,
   "metadata": {},
   "outputs": [
    {
     "data": {
      "text/plain": [
       "['doc3d',\n",
       " 'doc3d_real',\n",
       " 'doc3d_test',\n",
       " 'empty',\n",
       " 'inv3d',\n",
       " 'inv3d_real',\n",
       " 'inv3d_real_tplrandom',\n",
       " 'inv3d_real_tplstruct',\n",
       " 'inv3d_real_tpltext',\n",
       " 'inv3d_real_tplwhite',\n",
       " 'inv3d_test',\n",
       " 'inv3d_test_tplrandom',\n",
       " 'inv3d_test_tplstruct',\n",
       " 'inv3d_test_tpltext',\n",
       " 'inv3d_test_tplwhite',\n",
       " 'inv3d_tplstruct',\n",
       " 'inv3d_tpltext',\n",
       " 'inv3d_tplwhite']"
      ]
     },
     "execution_count": 3,
     "metadata": {},
     "output_type": "execute_result"
    }
   ],
   "source": [
    "zoo.list_datasets(verbose=False)"
   ]
  },
  {
   "cell_type": "code",
   "execution_count": 4,
   "metadata": {},
   "outputs": [
    {
     "data": {
      "text/plain": [
       "['dewarpnet_bm',\n",
       " 'dewarpnet_joint',\n",
       " 'dewarpnet_wc',\n",
       " 'geotr',\n",
       " 'geotr_template',\n",
       " 'geotr_template_large',\n",
       " 'identity']"
      ]
     },
     "execution_count": 4,
     "metadata": {},
     "output_type": "execute_result"
    }
   ],
   "source": [
    "zoo.list_models(verbose=False)"
   ]
  },
  {
   "cell_type": "code",
   "execution_count": 5,
   "metadata": {
    "scrolled": false
   },
   "outputs": [
    {
     "name": "stderr",
     "output_type": "stream",
     "text": [
      "GPU available: True, used: True\n",
      "TPU available: False, using: 0 TPU cores\n",
      "IPU available: False, using: 0 IPUs\n",
      "HPU available: False, using: 0 HPUs\n",
      "LOCAL_RANK: 0 - CUDA_VISIBLE_DEVICES: [1]\n",
      "\n",
      "  | Name  | Type          | Params\n",
      "----------------------------------------\n",
      "0 | model | GeoTrTemplate | 27.7 M\n",
      "----------------------------------------\n",
      "27.7 M    Trainable params\n",
      "0         Non-trainable params\n",
      "27.7 M    Total params\n",
      "110.686   Total estimated model params size (MB)\n"
     ]
    },
    {
     "name": "stdout",
     "output_type": "stream",
     "text": [
      "Epoch 0: 100%|██████████| 50/50 [00:10<00:00,  4.74it/s, loss=13.4, v_num=]"
     ]
    },
    {
     "name": "stderr",
     "output_type": "stream",
     "text": [
      "Metric val/mse_loss improved. New best score: 0.004\n"
     ]
    },
    {
     "name": "stdout",
     "output_type": "stream",
     "text": [
      "Epoch 1: 100%|██████████| 50/50 [00:07<00:00,  6.82it/s, loss=12.6, v_num=]"
     ]
    },
    {
     "name": "stderr",
     "output_type": "stream",
     "text": [
      "Metric val/mse_loss improved by 0.000 >= min_delta = 0.0. New best score: 0.004\n"
     ]
    },
    {
     "name": "stdout",
     "output_type": "stream",
     "text": [
      "Epoch 2: 100%|██████████| 50/50 [00:07<00:00,  6.83it/s, loss=12.6, v_num=]"
     ]
    },
    {
     "name": "stderr",
     "output_type": "stream",
     "text": [
      "Metric val/mse_loss improved by 0.000 >= min_delta = 0.0. New best score: 0.004\n"
     ]
    },
    {
     "name": "stdout",
     "output_type": "stream",
     "text": [
      "Epoch 3:   0%|          | 0/50 [00:00<?, ?it/s, loss=12.6, v_num=]         "
     ]
    },
    {
     "name": "stdout",
     "output_type": "stream",
     "text": [
      "Epoch 3:   0%|          | 0/50 [00:15<?, ?it/s, loss=12.6, v_num=]"
     ]
    }
   ],
   "source": [
    "model = \"geotr_template\"\n",
    "dataset = \"inv3d\"\n",
    "version = \"v1\"  # optional\n",
    "\n",
    "zoo.train_model(f\"{model}@{dataset}@{version}\", gpus=1, num_workers=16)"
   ]
  },
  {
   "cell_type": "markdown",
   "metadata": {},
   "source": [
    "## Visualization"
   ]
  },
  {
   "cell_type": "markdown",
   "metadata": {},
   "source": [
    "For visualizing the leaning progress, run:\n",
    "\n",
    "```tensorboard --port 2345  --logdir /workspaces/inv3d-model/models```\n",
    "\n",
    "and open in the browser:\n",
    "\n",
    "```localhost:2345```\n"
   ]
  },
  {
   "cell_type": "code",
   "execution_count": null,
   "metadata": {},
   "outputs": [],
   "source": []
  }
 ],
 "metadata": {
  "interpreter": {
   "hash": "d1eca7e10033d0533b79216175e355f46768e71e51be748d196f93f1f783edce"
  },
  "kernelspec": {
   "display_name": "Python 3.9.10 ('inv3d-normalizer-39')",
   "language": "python",
   "name": "python3"
  },
  "language_info": {
   "codemirror_mode": {
    "name": "ipython",
    "version": 3
   },
   "file_extension": ".py",
   "mimetype": "text/x-python",
   "name": "python",
   "nbconvert_exporter": "python",
   "pygments_lexer": "ipython3",
   "version": "3.10.12"
  }
 },
 "nbformat": 4,
 "nbformat_minor": 4
}
