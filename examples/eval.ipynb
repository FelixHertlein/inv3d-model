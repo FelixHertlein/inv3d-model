{
 "cells": [
  {
   "cell_type": "code",
   "execution_count": 6,
   "metadata": {},
   "outputs": [
    {
     "name": "stdout",
     "output_type": "stream",
     "text": [
      "The autoreload extension is already loaded. To reload it, use:\n",
      "  %reload_ext autoreload\n"
     ]
    }
   ],
   "source": [
    "%load_ext autoreload\n",
    "%autoreload 2\n",
    "\n",
    "import sys\n",
    "from pathlib import Path\n",
    "\n",
    "sys.path.insert(0, str(Path(\"../src\").resolve()))"
   ]
  },
  {
   "cell_type": "code",
   "execution_count": 7,
   "metadata": {},
   "outputs": [],
   "source": [
    "from inv3d_model.model_zoo import ModelZoo\n",
    "\n",
    "zoo = ModelZoo(\"../models\", \"../sources.yaml\")"
   ]
  },
  {
   "cell_type": "code",
   "execution_count": 8,
   "metadata": {},
   "outputs": [
    {
     "data": {
      "text/plain": [
       "['doc3d',\n",
       " 'doc3d_real',\n",
       " 'doc3d_test',\n",
       " 'empty',\n",
       " 'inv3d',\n",
       " 'inv3d_real',\n",
       " 'inv3d_real_tplrandom',\n",
       " 'inv3d_real_tplstruct',\n",
       " 'inv3d_real_tpltext',\n",
       " 'inv3d_real_tplwhite',\n",
       " 'inv3d_test',\n",
       " 'inv3d_test_tplrandom',\n",
       " 'inv3d_test_tplstruct',\n",
       " 'inv3d_test_tpltext',\n",
       " 'inv3d_test_tplwhite',\n",
       " 'inv3d_tplstruct',\n",
       " 'inv3d_tpltext',\n",
       " 'inv3d_tplwhite']"
      ]
     },
     "execution_count": 8,
     "metadata": {},
     "output_type": "execute_result"
    }
   ],
   "source": [
    "zoo.list_datasets(verbose=False)"
   ]
  },
  {
   "cell_type": "code",
   "execution_count": 9,
   "metadata": {},
   "outputs": [
    {
     "data": {
      "text/plain": [
       "['geotr_template@inv3d@v1']"
      ]
     },
     "execution_count": 9,
     "metadata": {},
     "output_type": "execute_result"
    }
   ],
   "source": [
    "zoo.list_trained_models(verbose=False)"
   ]
  },
  {
   "cell_type": "code",
   "execution_count": 10,
   "metadata": {
    "scrolled": false
   },
   "outputs": [
    {
     "name": "stdout",
     "output_type": "stream",
     "text": [
      "Loading checkpoint: /workspaces/inv3d-model/models/geotr_template@inv3d@v1/checkpoints/checkpoint-epoch=02-val_mse_loss=0.0041.ckpt\n"
     ]
    },
    {
     "name": "stderr",
     "output_type": "stream",
     "text": [
      "Inference samples:   3%|▎         | 11/360 [00:11<06:04,  1.04s/it]\n",
      "Scale images: 100%|██████████| 11/11 [00:01<00:00,  5.77it/s]\n",
      "Calcualte EPE: 0it [00:00, ?it/s]\n",
      "Calcualte msssim: 100%|██████████| 11/11 [00:00<00:00, 87.55it/s]\n",
      "Calcualte lpips:   0%|          | 0/11 [00:00<?, ?it/s]"
     ]
    },
    {
     "name": "stdout",
     "output_type": "stream",
     "text": [
      "Setting up [LPIPS] perceptual loss: trunk [alex], v[0.1], spatial [off]\n"
     ]
    },
    {
     "name": "stderr",
     "output_type": "stream",
     "text": [
      "Downloading: \"https://download.pytorch.org/models/alexnet-owt-7be5be79.pth\" to /root/.cache/torch/hub/checkpoints/alexnet-owt-7be5be79.pth\n"
     ]
    },
    {
     "data": {
      "application/json": {
       "ascii": false,
       "bar_format": null,
       "colour": null,
       "elapsed": 0.020717620849609375,
       "initial": 0,
       "n": 0,
       "ncols": null,
       "nrows": null,
       "postfix": null,
       "prefix": "",
       "rate": null,
       "total": 244408911,
       "unit": "B",
       "unit_divisor": 1024,
       "unit_scale": true
      },
      "application/vnd.jupyter.widget-view+json": {
       "model_id": "dee670ecb1bd472fa52e4b88a3611e2a",
       "version_major": 2,
       "version_minor": 0
      },
      "text/plain": [
       "  0%|          | 0.00/233M [00:00<?, ?B/s]"
      ]
     },
     "metadata": {},
     "output_type": "display_data"
    },
    {
     "name": "stderr",
     "output_type": "stream",
     "text": [
      "Calcualte lpips: 100%|██████████| 11/11 [00:06<00:00,  1.64it/s]"
     ]
    },
    {
     "name": "stdout",
     "output_type": "stream",
     "text": [
      "Loading model from: /usr/local/lib/python3.10/dist-packages/lpips/weights/v0.1/alex.pth\n",
      "Calculating textual scores\n"
     ]
    },
    {
     "name": "stderr",
     "output_type": "stream",
     "text": [
      "\n"
     ]
    },
    {
     "name": "stdout",
     "output_type": "stream",
     "text": [
      "Starting parallel execution with 16 workers!\n",
      "Awaiting completion!\n"
     ]
    },
    {
     "name": "stderr",
     "output_type": "stream",
     "text": [
      "Processing ...: 100%|██████████| 11/11 [00:03<00:00,  3.09it/s]\n"
     ]
    },
    {
     "name": "stdout",
     "output_type": "stream",
     "text": [
      "Results for model 'geotr_template@inv3d@v1' on 'inv3d_real':\n",
      "ms_ssim      0.549123\n",
      "lpips        0.550574\n",
      "ed         431.636364\n",
      "cer          0.831669\n",
      "dtype: float64\n"
     ]
    }
   ],
   "source": [
    "trained_model = \"geotr_template@inv3d@v1\"\n",
    "dataset = \"inv3d_real\"\n",
    "\n",
    "zoo.eval_model(trained_model=trained_model, dataset=dataset, gpu=3, num_workers=4)"
   ]
  }
 ],
 "metadata": {
  "interpreter": {
   "hash": "d1eca7e10033d0533b79216175e355f46768e71e51be748d196f93f1f783edce"
  },
  "kernelspec": {
   "display_name": "Python 3.9.10 ('inv3d-normalizer-39')",
   "language": "python",
   "name": "python3"
  },
  "language_info": {
   "codemirror_mode": {
    "name": "ipython",
    "version": 3
   },
   "file_extension": ".py",
   "mimetype": "text/x-python",
   "name": "python",
   "nbconvert_exporter": "python",
   "pygments_lexer": "ipython3",
   "version": "3.10.12"
  }
 },
 "nbformat": 4,
 "nbformat_minor": 4
}
